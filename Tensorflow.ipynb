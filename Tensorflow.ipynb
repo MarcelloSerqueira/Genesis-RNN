{
 "cells": [
  {
   "cell_type": "code",
   "execution_count": 1,
   "metadata": {},
   "outputs": [],
   "source": [
    "import tensorflow as tf\n",
    "import os\n",
    "from tensorflow.python.ops import rnn, rnn_cell\n",
    "import data_utils as du\n",
    "import numpy as np\n",
    "from sklearn.metrics import precision_score, f1_score, recall_score, accuracy_score, confusion_matrix\n",
    "import matplotlib.pyplot as plt\n",
    "os.environ['TF_CPP_MIN_LOG_LEVEL'] = '3'"
   ]
  },
  {
   "cell_type": "markdown",
   "metadata": {},
   "source": [
    "#### Variáveis que são utilizadas no código. O rnn_size e hum_epochs podem ser alterados.\n",
    "#### Leitura do arquivo csv de treinamento e teste."
   ]
  },
  {
   "cell_type": "code",
   "execution_count": 3,
   "metadata": {},
   "outputs": [
    {
     "name": "stdout",
     "output_type": "stream",
     "text": [
      "loading training data...\n",
      "loading test data...\n"
     ]
    }
   ],
   "source": [
    "#Path para os arquivos csv TREINO/TESTE\n",
    "#Passar o csv sem header e separado por virgula\n",
    "trainX, trainY, predX, predY, n_classes = du.csv_to_numpy_array('datasets\\\\train.csv', \n",
    "                                                                'datasets\\\\train.csv')\n",
    "num_x = trainX.shape[1]\n",
    "num_y = trainY.shape[1]\n",
    "\n",
    "hm_epochs = 50 #Número de épocas\n",
    "batch_size = 32\n",
    "chunk_size = num_x\n",
    "n_chunks = 1\n",
    "rnn_size = 512 #Número de neurônios ex: 128, 256\n",
    "\n",
    "epoch_breaker = int(trainX.shape[0]/batch_size)*batch_size"
   ]
  },
  {
   "cell_type": "markdown",
   "metadata": {},
   "source": [
    "#### Função que define a arquitetura da rede. Rede atual com 1 camada e número de neurônios que podem ser definidos"
   ]
  },
  {
   "cell_type": "code",
   "execution_count": 4,
   "metadata": {},
   "outputs": [],
   "source": [
    "def recurrent_neural_network(x):\n",
    "    layer = {'weights':tf.Variable(tf.random_normal([rnn_size,n_classes])),\n",
    "             'biases':tf.Variable(tf.random_normal([n_classes]))}\n",
    "\n",
    "    x = tf.transpose(x, [1,0,2])\n",
    "    x = tf.reshape(x, [-1, chunk_size])\n",
    "    x = tf.split(x, n_chunks, 0)\n",
    "\n",
    "    lstm_cell = rnn_cell.BasicLSTMCell(rnn_size,state_is_tuple=True)\n",
    "    outputs, states = rnn.static_rnn(lstm_cell, x, dtype=tf.float32)\n",
    "\n",
    "    output = tf.matmul(outputs[-1],layer['weights'], name=\"output\") + layer['biases']\n",
    "\n",
    "    return output"
   ]
  },
  {
   "cell_type": "markdown",
   "metadata": {},
   "source": [
    "#### Função utilizada para construção do gráfico. Não precisa ser alterada"
   ]
  },
  {
   "cell_type": "code",
   "execution_count": 5,
   "metadata": {},
   "outputs": [],
   "source": [
    "def get_accuracy(prediction, y, sess, predX, predY, x):\n",
    "  pred_model =  tf.argmax(prediction, 1)\n",
    "  pred_model = sess.run(pred_model, feed_dict={x:predX.reshape((-1, n_chunks, chunk_size)), y:predY})\n",
    "\n",
    "  pred_true =  tf.argmax(y, 1)\n",
    "  pred_true = sess.run(pred_true, feed_dict={x:predX.reshape((-1, n_chunks, chunk_size)), y:predY})\n",
    "\n",
    "  acc = accuracy_score(pred_true, pred_model)\n",
    "\n",
    "  return acc"
   ]
  },
  {
   "cell_type": "markdown",
   "metadata": {},
   "source": [
    "#### Função de métricas. Definir o arquivo de saída com a classificação da rede onde está indicado o comentário"
   ]
  },
  {
   "cell_type": "code",
   "execution_count": 6,
   "metadata": {},
   "outputs": [],
   "source": [
    "def nn_performance_metrics(prediction, y, sess, predX, predY, x):\n",
    "  pred_model =  tf.argmax(prediction, 1)\n",
    "  pred_model = sess.run(pred_model, feed_dict={x:predX.reshape((-1, n_chunks, chunk_size)), y:predY})\n",
    "  #print(\"Numero de marcacoes do modelo: \", np.sum(pred_model))\n",
    "  #print(\"Classificacao do modelo:   \", pred_model)\n",
    "  pred_true =  tf.argmax(y, 1)\n",
    "  pred_true = sess.run(pred_true, feed_dict={x:predX.reshape((-1, n_chunks, chunk_size)), y:predY})\n",
    "  #print(\"Numero de marcacoes do teste: \", np.sum(pred_true))\n",
    "  #print(\"Classificacao do teste:    \", pred_true)\n",
    "  print(\"Matriz de confusão: \\n\", confusion_matrix(pred_true, pred_model))\n",
    "  np.savetxt(\"F:\\\\Genesis\\\\WELL3\\\\classification_well3.csv\", pred_model, delimiter=\",\") #Caminha para salvar a classificação\n",
    "\n",
    "  f1 = f1_score(pred_true, pred_model, average='macro')\n",
    "  acc = accuracy_score(pred_true, pred_model)\n",
    "  return  f1, acc"
   ]
  },
  {
   "cell_type": "markdown",
   "metadata": {},
   "source": [
    "#### Função que realiza o treinamento e cria o gráfico de aprendizado. Não precisa ser alterado."
   ]
  },
  {
   "cell_type": "code",
   "execution_count": 7,
   "metadata": {},
   "outputs": [],
   "source": [
    "def train_neural_network():\n",
    "    x = tf.placeholder('float', [None, n_chunks,chunk_size])\n",
    "    y = tf.placeholder('float')    \n",
    "    prediction = recurrent_neural_network(x)\n",
    "    print('prediction', prediction)\n",
    "    cost = tf.reduce_mean( tf.nn.softmax_cross_entropy_with_logits(logits=prediction,labels=y) )\n",
    "    optimizer = tf.train.AdamOptimizer().minimize(cost)\n",
    "    prediction = tf.identity(prediction, name=\"prediction\")\n",
    "    \n",
    "    loss_train = []\n",
    "    loss_epoch = []\n",
    "    loss_test = []\n",
    "    \n",
    "    with tf.Session() as sess:\n",
    "        sess.run(tf.global_variables_initializer())\n",
    "\n",
    "        for epoch in range(hm_epochs):\n",
    "            epoch_loss = 0\n",
    "            i = 0\n",
    "            while i < len(trainX):\n",
    "                if i >= epoch_breaker:\n",
    "            \t     break\n",
    "                start = i\n",
    "                end = i+batch_size\n",
    "                epoch_x = np.array(trainX[start:end])\n",
    "                epoch_y = np.array(trainY[start:end])\n",
    "                epoch_x = epoch_x.reshape((batch_size,n_chunks,chunk_size))\n",
    "                _, c = sess.run([optimizer, cost], feed_dict={x: epoch_x, y: epoch_y})\n",
    "                epoch_loss += c\n",
    "                i+=batch_size\n",
    "            print('Epoch', epoch+1, 'completed out of',hm_epochs,'loss:',epoch_loss)\n",
    "            loss_train.append(get_accuracy(prediction, y, sess, trainX, trainY, x))\n",
    "            loss_test.append(get_accuracy(prediction, y, sess, predX, predY, x))\n",
    "            loss_epoch.append(epoch)\n",
    "        saver = tf.train.Saver()\n",
    "        f1, acc = nn_performance_metrics(prediction, y, sess, predX, predY, x)\n",
    "        print(\"Acc:\", acc)\n",
    "        print(\"F1:\", f1)\n",
    "        saver.save(sess, 'modelos_TF/trained_variables2.ckpt')\n",
    "        plt.plot(loss_epoch, loss_train)\n",
    "        plt.plot(loss_epoch, loss_test)\n",
    "        plt.ylabel('Accuracy')\n",
    "        plt.xlabel('Epoch')\n",
    "        plt.show()"
   ]
  },
  {
   "cell_type": "markdown",
   "metadata": {},
   "source": [
    "#### Por fim, execução do treinamento da rede."
   ]
  },
  {
   "cell_type": "code",
   "execution_count": 8,
   "metadata": {},
   "outputs": [
    {
     "name": "stdout",
     "output_type": "stream",
     "text": [
      "WARNING:tensorflow:From <ipython-input-4-064fa9c68ab4>:9: BasicLSTMCell.__init__ (from tensorflow.python.ops.rnn_cell_impl) is deprecated and will be removed in a future version.\n",
      "Instructions for updating:\n",
      "This class is deprecated, please use tf.nn.rnn_cell.LSTMCell, which supports all the feature this cell currently has. Please replace the existing code with tf.nn.rnn_cell.LSTMCell(name='basic_lstm_cell').\n",
      "prediction Tensor(\"add:0\", shape=(?, 2), dtype=float32)\n",
      "WARNING:tensorflow:From <ipython-input-7-e8fdaeb38735>:6: softmax_cross_entropy_with_logits (from tensorflow.python.ops.nn_ops) is deprecated and will be removed in a future version.\n",
      "Instructions for updating:\n",
      "\n",
      "Future major versions of TensorFlow will allow gradients to flow\n",
      "into the labels input on backprop by default.\n",
      "\n",
      "See `tf.nn.softmax_cross_entropy_with_logits_v2`.\n",
      "\n",
      "Epoch 1 completed out of 50 loss: 968.4345582794067\n",
      "Epoch 2 completed out of 50 loss: 886.296002044915\n",
      "Epoch 3 completed out of 50 loss: 824.6842317739356\n",
      "Epoch 4 completed out of 50 loss: 828.3616170780424\n",
      "Epoch 5 completed out of 50 loss: 809.296384504778\n",
      "Epoch 6 completed out of 50 loss: 802.4562377110124\n",
      "Epoch 7 completed out of 50 loss: 798.0722204799531\n",
      "Epoch 8 completed out of 50 loss: 792.852033827221\n",
      "Epoch 9 completed out of 50 loss: 787.3952791923657\n",
      "Epoch 10 completed out of 50 loss: 782.524615155533\n",
      "Epoch 11 completed out of 50 loss: 777.7689696834423\n",
      "Epoch 12 completed out of 50 loss: 773.3908386924304\n",
      "Epoch 13 completed out of 50 loss: 769.4904647767544\n",
      "Epoch 14 completed out of 50 loss: 765.9821537872776\n",
      "Epoch 15 completed out of 50 loss: 762.8102179127745\n",
      "Epoch 16 completed out of 50 loss: 759.9171476643533\n",
      "Epoch 17 completed out of 50 loss: 757.2467993162572\n",
      "Epoch 18 completed out of 50 loss: 754.7449832223356\n",
      "Epoch 19 completed out of 50 loss: 752.371872597374\n",
      "Epoch 20 completed out of 50 loss: 750.0946552231908\n",
      "Epoch 21 completed out of 50 loss: 747.8827419113368\n",
      "Epoch 22 completed out of 50 loss: 745.7118095881306\n",
      "Epoch 23 completed out of 50 loss: 743.5622519992758\n",
      "Epoch 24 completed out of 50 loss: 741.4172149559017\n",
      "Epoch 25 completed out of 50 loss: 739.2638418423012\n",
      "Epoch 26 completed out of 50 loss: 737.0944878172595\n",
      "Epoch 27 completed out of 50 loss: 734.9045209097676\n",
      "Epoch 28 completed out of 50 loss: 732.6940172374016\n",
      "Epoch 29 completed out of 50 loss: 730.4629127880326\n",
      "Epoch 30 completed out of 50 loss: 728.2139400995802\n",
      "Epoch 31 completed out of 50 loss: 725.950945454766\n",
      "Epoch 32 completed out of 50 loss: 723.6791096616071\n",
      "Epoch 33 completed out of 50 loss: 721.4079960100353\n",
      "Epoch 34 completed out of 50 loss: 719.1501819948899\n",
      "Epoch 35 completed out of 50 loss: 716.9195802476606\n",
      "Epoch 36 completed out of 50 loss: 714.730820025783\n",
      "Epoch 37 completed out of 50 loss: 712.5985956165823\n",
      "Epoch 38 completed out of 50 loss: 710.5338332973188\n",
      "Epoch 39 completed out of 50 loss: 708.5449967781897\n",
      "Epoch 40 completed out of 50 loss: 706.6369846138405\n",
      "Epoch 41 completed out of 50 loss: 704.812040776189\n",
      "Epoch 42 completed out of 50 loss: 703.0695696959738\n",
      "Epoch 43 completed out of 50 loss: 701.4073820291087\n",
      "Epoch 44 completed out of 50 loss: 699.8218506288831\n",
      "Epoch 45 completed out of 50 loss: 698.3097701511288\n",
      "Epoch 46 completed out of 50 loss: 696.8667244863173\n",
      "Epoch 47 completed out of 50 loss: 695.4878570199653\n",
      "Epoch 48 completed out of 50 loss: 694.1670333355578\n",
      "Epoch 49 completed out of 50 loss: 692.8977121360949\n",
      "Epoch 50 completed out of 50 loss: 691.6739343447553\n",
      "Matriz de confusão: \n",
      " [[25688  1814]\n",
      " [ 9211  4045]]\n",
      "Acc: 0.7295009568673635\n",
      "F1: 0.6232739853231206\n"
     ]
    },
    {
     "data": {
      "image/png": "[encoded data removed]",
      "text/plain": [
       "<Figure size 432x288 with 1 Axes>"
      ]
     },
     "metadata": {
      "needs_background": "light"
     },
     "output_type": "display_data"
    }
   ],
   "source": [
    "tf.reset_default_graph()\n",
    "train_neural_network()"
   ]
  }
 ],
 "metadata": {
  "kernelspec": {
   "display_name": "Python 3",
   "language": "python",
   "name": "python3"
  },
  "language_info": {
   "codemirror_mode": {
    "name": "ipython",
    "version": 3
   },
   "file_extension": ".py",
   "mimetype": "text/x-python",
   "name": "python",
   "nbconvert_exporter": "python",
   "pygments_lexer": "ipython3",
   "version": "3.6.6"
  }
 },
 "nbformat": 4,
 "nbformat_minor": 2
}
