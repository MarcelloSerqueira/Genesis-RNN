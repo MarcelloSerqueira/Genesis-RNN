{
 "cells": [
  {
   "cell_type": "markdown",
   "metadata": {},
   "source": [
    "### Leitura do dataset original do poço"
   ]
  },
  {
   "cell_type": "code",
   "execution_count": 22,
   "metadata": {},
   "outputs": [],
   "source": [
    "#especificar o caminho para o arquivo csv que será utilizado\n",
    "pco_6_original = read.csv(file=\"F:\\\\Genesis\\\\FINS & INICIOS\\\\FIM BOMBEIO.csv\", sep=\",\")\n",
    "concat_kazuo = pco_6_original\n",
    "kazuo_regression_test = NULL\n",
    "concat_kazuo[is.na(concat_kazuo)] <- -999\n",
    "concat_kazuo$KAZUO_REMARK[concat_kazuo$KAZUO_REMARK == -999] <- 0\n",
    "\n",
    "as.numeric.factor <- function(x) {as.numeric(levels(x))[x]}"
   ]
  },
  {
   "cell_type": "markdown",
   "metadata": {},
   "source": [
    "### Dados da normalização"
   ]
  },
  {
   "cell_type": "code",
   "execution_count": 3,
   "metadata": {},
   "outputs": [],
   "source": [
    "min_value = 0\n",
    "max_BLOCKCOMP = 55\n",
    "max_HKLD_AVG = 2000\n",
    "max_SURF_RPM = 750\n",
    "max_TORQUE_AVG = 105000\n",
    "max_FLOWIN = 2000\n",
    "max_PUMP = 8000\n",
    "max_CHOKE_PRES = 16000\n",
    "max_KILL_PRES = 16000\n",
    "max_CEMENT_PRES = 16000"
   ]
  },
  {
   "cell_type": "markdown",
   "metadata": {},
   "source": [
    "### Blockcomp"
   ]
  },
  {
   "cell_type": "code",
   "execution_count": 4,
   "metadata": {},
   "outputs": [
    {
     "data": {
      "text/html": [
       "<table>\n",
       "<thead><tr><th scope=col>BLOCKCOMP</th><th scope=col>BLOCKCOMP_TREND</th></tr></thead>\n",
       "<tbody>\n",
       "\t<tr><td>0.3178182  </td><td>-0.06616274</td></tr>\n",
       "\t<tr><td>0.3023636  </td><td>-0.06800283</td></tr>\n",
       "\t<tr><td>0.2850909  </td><td>-0.07124290</td></tr>\n",
       "\t<tr><td>0.2627273  </td><td>-0.07893892</td></tr>\n",
       "\t<tr><td>0.2458182  </td><td>-0.08056504</td></tr>\n",
       "\t<tr><td>0.2238182  </td><td>-0.08635280</td></tr>\n",
       "</tbody>\n",
       "</table>\n"
      ],
      "text/latex": [
       "\\begin{tabular}{r|ll}\n",
       " BLOCKCOMP & BLOCKCOMP\\_TREND\\\\\n",
       "\\hline\n",
       "\t 0.3178182   & -0.06616274\\\\\n",
       "\t 0.3023636   & -0.06800283\\\\\n",
       "\t 0.2850909   & -0.07124290\\\\\n",
       "\t 0.2627273   & -0.07893892\\\\\n",
       "\t 0.2458182   & -0.08056504\\\\\n",
       "\t 0.2238182   & -0.08635280\\\\\n",
       "\\end{tabular}\n"
      ],
      "text/markdown": [
       "\n",
       "BLOCKCOMP | BLOCKCOMP_TREND | \n",
       "|---|---|---|---|---|---|\n",
       "| 0.3178182   | -0.06616274 | \n",
       "| 0.3023636   | -0.06800283 | \n",
       "| 0.2850909   | -0.07124290 | \n",
       "| 0.2627273   | -0.07893892 | \n",
       "| 0.2458182   | -0.08056504 | \n",
       "| 0.2238182   | -0.08635280 | \n",
       "\n",
       "\n"
      ],
      "text/plain": [
       "  BLOCKCOMP BLOCKCOMP_TREND\n",
       "1 0.3178182 -0.06616274    \n",
       "2 0.3023636 -0.06800283    \n",
       "3 0.2850909 -0.07124290    \n",
       "4 0.2627273 -0.07893892    \n",
       "5 0.2458182 -0.08056504    \n",
       "6 0.2238182 -0.08635280    "
      ]
     },
     "metadata": {},
     "output_type": "display_data"
    }
   ],
   "source": [
    "DF = NULL\n",
    "DF$BLOCKCOMP = as.numeric(concat_kazuo$BLOCKCOMP)\n",
    "DF = as.data.frame(DF)\n",
    "DF$BLOCKCOMP <- ((DF$BLOCKCOMP-min_value)/(max_BLOCKCOMP-min_value))\n",
    "\n",
    "DF$BLOCKCOMP_1min = (as.numeric(concat_kazuo$BLOCKCOMP_1min_MEAN)-min_value)/(max_BLOCKCOMP-min_value)\n",
    "DF$BLOCKCOMP_2min = (as.numeric(concat_kazuo$BLOCKCOMP_2min_MEAN)-min_value)/(max_BLOCKCOMP-min_value)\n",
    "DF$BLOCKCOMP_3min = (as.numeric(concat_kazuo$BLOCKCOMP_3min_MEAN)-min_value)/(max_BLOCKCOMP-min_value)\n",
    "DF$BLOCKCOMP_5min = (as.numeric(concat_kazuo$BLOCKCOMP_5min_MEAN)-min_value)/(max_BLOCKCOMP-min_value)\n",
    "DF$BLOCKCOMP_8min = (as.numeric(concat_kazuo$BLOCKCOMP_8min_MEAN)-min_value)/(max_BLOCKCOMP-min_value)\n",
    "DF$BLOCKCOMP_13min = (as.numeric(concat_kazuo$BLOCKCOMP_13min_MEAN)-min_value)/(max_BLOCKCOMP-min_value)\n",
    "DF$BLOCKCOMP_21min = (as.numeric(concat_kazuo$BLOCKCOMP_21min_MEAN)-min_value)/(max_BLOCKCOMP-min_value)\n",
    "\n",
    "train = NULL\n",
    "train$time = c(1, 2, 3, 5, 8, 13, 21)\n",
    "train = as.data.frame(train)\n",
    "\n",
    "test = NULL\n",
    "test$time = c(0)\n",
    "BLOCKCOMP_TREND = NULL\n",
    "DF[is.na(DF)] <- -1\n",
    "DF[DF == -999] <- -1\n",
    "DF$BLOCKCOMP[DF$BLOCKCOMP > 1] <- 2\n",
    "DF$BLOCKCOMP[DF$BLOCKCOMP < 0] <- -1\n",
    "\n",
    "for (i in 1:nrow(DF)){\n",
    "  lista = c(DF[i,2],DF[i,3], DF[i,4], DF[i,5], DF[i,6], DF[i,7], DF[i,8])\n",
    "\n",
    "  train$mean = lista\n",
    "  lista2 = c(DF[i,1])\n",
    "  test$mean = lista2\n",
    "  \n",
    "  lmMod <- lm(mean ~ time, data=train)  # build the model\n",
    "  distPred <- predict(lmMod, test)\n",
    "  actuals_preds <- data.frame(cbind(actuals=test$mean, predicteds=distPred))\n",
    "  TREND_DIF = actuals_preds$actuals - actuals_preds$predicteds\n",
    "  if(TREND_DIF > 0) {\n",
    "    BLOCKCOMP_TREND[i] = abs(TREND_DIF)\n",
    "  } else if(TREND_DIF < 0) {\n",
    "    BLOCKCOMP_TREND[i] = TREND_DIF\n",
    "  } else {\n",
    "    BLOCKCOMP_TREND[i] = TREND_DIF\n",
    "  }\n",
    "}\n",
    "BLOCKCOMP = DF$BLOCKCOMP\n",
    "DF$BLOCKCOMP_TREND = BLOCKCOMP_TREND\n",
    "head(DF[,c(\"BLOCKCOMP\", \"BLOCKCOMP_TREND\")])"
   ]
  },
  {
   "cell_type": "markdown",
   "metadata": {},
   "source": [
    "### SURF_RPM"
   ]
  },
  {
   "cell_type": "code",
   "execution_count": 6,
   "metadata": {},
   "outputs": [
    {
     "data": {
      "text/html": [
       "<table>\n",
       "<thead><tr><th scope=col>SURF_RPM</th><th scope=col>SURF_RPM_TREND</th></tr></thead>\n",
       "<tbody>\n",
       "\t<tr><td>-1   </td><td>0.332</td></tr>\n",
       "\t<tr><td>-1   </td><td>0.332</td></tr>\n",
       "\t<tr><td>-1   </td><td>0.332</td></tr>\n",
       "\t<tr><td>-1   </td><td>0.332</td></tr>\n",
       "\t<tr><td>-1   </td><td>0.332</td></tr>\n",
       "\t<tr><td>-1   </td><td>0.332</td></tr>\n",
       "</tbody>\n",
       "</table>\n"
      ],
      "text/latex": [
       "\\begin{tabular}{r|ll}\n",
       " SURF\\_RPM & SURF\\_RPM\\_TREND\\\\\n",
       "\\hline\n",
       "\t -1    & 0.332\\\\\n",
       "\t -1    & 0.332\\\\\n",
       "\t -1    & 0.332\\\\\n",
       "\t -1    & 0.332\\\\\n",
       "\t -1    & 0.332\\\\\n",
       "\t -1    & 0.332\\\\\n",
       "\\end{tabular}\n"
      ],
      "text/markdown": [
       "\n",
       "SURF_RPM | SURF_RPM_TREND | \n",
       "|---|---|---|---|---|---|\n",
       "| -1    | 0.332 | \n",
       "| -1    | 0.332 | \n",
       "| -1    | 0.332 | \n",
       "| -1    | 0.332 | \n",
       "| -1    | 0.332 | \n",
       "| -1    | 0.332 | \n",
       "\n",
       "\n"
      ],
      "text/plain": [
       "  SURF_RPM SURF_RPM_TREND\n",
       "1 -1       0.332         \n",
       "2 -1       0.332         \n",
       "3 -1       0.332         \n",
       "4 -1       0.332         \n",
       "5 -1       0.332         \n",
       "6 -1       0.332         "
      ]
     },
     "metadata": {},
     "output_type": "display_data"
    }
   ],
   "source": [
    "DF = NULL\n",
    "DF$SURF_RPM = as.numeric(concat_kazuo$SURF_RPM)\n",
    "DF = as.data.frame(DF)\n",
    "DF$SURF_RPM <- ((DF$SURF_RPM-min_value)/(max_SURF_RPM-min_value))\n",
    "\n",
    "DF$SURF_RPM_1min = (as.numeric(concat_kazuo$SURF_RPM_1min_MEAN)-min_value)/(max_SURF_RPM-min_value)\n",
    "DF$SURF_RPM_2min = (as.numeric(concat_kazuo$SURF_RPM_2min_MEAN)-min_value)/(max_SURF_RPM-min_value)\n",
    "DF$SURF_RPM_3min = (as.numeric(concat_kazuo$SURF_RPM_3min_MEAN)-min_value)/(max_SURF_RPM-min_value)\n",
    "DF$SURF_RPM_5min = (as.numeric(concat_kazuo$SURF_RPM_5min_MEAN)-min_value)/(max_SURF_RPM-min_value)\n",
    "DF$SURF_RPM_8min = (as.numeric(concat_kazuo$SURF_RPM_8min_MEAN)-min_value)/(max_SURF_RPM-min_value)\n",
    "DF$SURF_RPM_13min = (as.numeric(concat_kazuo$SURF_RPM_13min_MEAN)-min_value)/(max_SURF_RPM-min_value)\n",
    "DF$SURF_RPM_21min = (as.numeric(concat_kazuo$SURF_RPM_21min_MEAN)-min_value)/(max_SURF_RPM-min_value)\n",
    "\n",
    "train = NULL\n",
    "train$time = c(1, 2, 3, 5, 8, 13, 21)\n",
    "train = as.data.frame(train)\n",
    "\n",
    "test = NULL\n",
    "test$time = c(0)\n",
    "SURF_RPM_TREND = NULL\n",
    "DF[is.na(DF)] <- -1\n",
    "DF[DF == -999] <- -1\n",
    "DF$SURF_RPM[DF$SURF_RPM > 1] <- 2\n",
    "DF$SURF_RPM[DF$SURF_RPM < 0] <- -1\n",
    "\n",
    "for (i in 1:nrow(DF)){\n",
    "  lista = c(DF[i,2],DF[i,3], DF[i,4], DF[i,5], DF[i,6], DF[i,7], DF[i,8])\n",
    "\n",
    "  train$mean = lista\n",
    "  lista2 = c(DF[i,1])\n",
    "  test$mean = lista2\n",
    "  \n",
    "  lmMod <- lm(mean ~ time, data=train)  # build the model\n",
    "  distPred <- predict(lmMod, test)\n",
    "  actuals_preds <- data.frame(cbind(actuals=test$mean, predicteds=distPred))\n",
    "  TREND_DIF = actuals_preds$actuals - actuals_preds$predicteds\n",
    "  if(TREND_DIF > 0) {\n",
    "    SURF_RPM_TREND[i] = abs(TREND_DIF)\n",
    "  } else if(TREND_DIF < 0) {\n",
    "    SURF_RPM_TREND[i] = TREND_DIF\n",
    "  } else {\n",
    "    SURF_RPM_TREND[i] = TREND_DIF\n",
    "  }\n",
    "}\n",
    "\n",
    "SURF_RPM = DF$SURF_RPM\n",
    "DF$SURF_RPM_TREND = SURF_RPM_TREND\n",
    "head(DF[,c(\"SURF_RPM\", \"SURF_RPM_TREND\")])"
   ]
  },
  {
   "cell_type": "markdown",
   "metadata": {},
   "source": [
    "### PUMP"
   ]
  },
  {
   "cell_type": "code",
   "execution_count": 7,
   "metadata": {},
   "outputs": [
    {
     "data": {
      "text/html": [
       "<table>\n",
       "<thead><tr><th scope=col>PUMP</th><th scope=col>PUMP_TREND</th></tr></thead>\n",
       "<tbody>\n",
       "\t<tr><td>0.00752250   </td><td>-0.0005114133</td></tr>\n",
       "\t<tr><td>0.00738500   </td><td>-0.0006335484</td></tr>\n",
       "\t<tr><td>0.00790250   </td><td>-0.0001611079</td></tr>\n",
       "\t<tr><td>0.00767875   </td><td>-0.0004350596</td></tr>\n",
       "\t<tr><td>0.00748625   </td><td>-0.0006498132</td></tr>\n",
       "\t<tr><td>0.00761250   </td><td>-0.0005558324</td></tr>\n",
       "</tbody>\n",
       "</table>\n"
      ],
      "text/latex": [
       "\\begin{tabular}{r|ll}\n",
       " PUMP & PUMP\\_TREND\\\\\n",
       "\\hline\n",
       "\t 0.00752250    & -0.0005114133\\\\\n",
       "\t 0.00738500    & -0.0006335484\\\\\n",
       "\t 0.00790250    & -0.0001611079\\\\\n",
       "\t 0.00767875    & -0.0004350596\\\\\n",
       "\t 0.00748625    & -0.0006498132\\\\\n",
       "\t 0.00761250    & -0.0005558324\\\\\n",
       "\\end{tabular}\n"
      ],
      "text/markdown": [
       "\n",
       "PUMP | PUMP_TREND | \n",
       "|---|---|---|---|---|---|\n",
       "| 0.00752250    | -0.0005114133 | \n",
       "| 0.00738500    | -0.0006335484 | \n",
       "| 0.00790250    | -0.0001611079 | \n",
       "| 0.00767875    | -0.0004350596 | \n",
       "| 0.00748625    | -0.0006498132 | \n",
       "| 0.00761250    | -0.0005558324 | \n",
       "\n",
       "\n"
      ],
      "text/plain": [
       "  PUMP       PUMP_TREND   \n",
       "1 0.00752250 -0.0005114133\n",
       "2 0.00738500 -0.0006335484\n",
       "3 0.00790250 -0.0001611079\n",
       "4 0.00767875 -0.0004350596\n",
       "5 0.00748625 -0.0006498132\n",
       "6 0.00761250 -0.0005558324"
      ]
     },
     "metadata": {},
     "output_type": "display_data"
    }
   ],
   "source": [
    "DF = NULL\n",
    "DF$PUMP = as.numeric(concat_kazuo$PUMP)\n",
    "DF = as.data.frame(DF)\n",
    "DF$PUMP <- ((DF$PUMP-min_value)/(max_PUMP-min_value))\n",
    "\n",
    "DF$PUMP_1min = (as.numeric(concat_kazuo$PUMP_1min_MEAN)-min_value)/(max_PUMP-min_value)\n",
    "DF$PUMP_2min = (as.numeric(concat_kazuo$PUMP_2min_MEAN)-min_value)/(max_PUMP-min_value)\n",
    "DF$PUMP_3min = (as.numeric(concat_kazuo$PUMP_3min_MEAN)-min_value)/(max_PUMP-min_value)\n",
    "DF$PUMP_5min = (as.numeric(concat_kazuo$PUMP_5min_MEAN)-min_value)/(max_PUMP-min_value)\n",
    "DF$PUMP_8min = (as.numeric(concat_kazuo$PUMP_8min_MEAN)-min_value)/(max_PUMP-min_value)\n",
    "DF$PUMP_13min = (as.numeric(concat_kazuo$PUMP_13min_MEAN)-min_value)/(max_PUMP-min_value)\n",
    "DF$PUMP_21min = (as.numeric(concat_kazuo$PUMP_21min_MEAN)-min_value)/(max_PUMP-min_value)\n",
    "\n",
    "train = NULL\n",
    "train$time = c(1, 2, 3, 5, 8, 13, 21)\n",
    "train = as.data.frame(train)\n",
    "\n",
    "test = NULL\n",
    "test$time = c(0)\n",
    "PUMP_TREND = NULL\n",
    "DF[is.na(DF)] <- -1\n",
    "DF[DF == -999] <- -1\n",
    "DF$PUMP[DF$PUMP > 1] <- 2\n",
    "DF$PUMP[DF$PUMP < 0] <- -1\n",
    "\n",
    "for (i in 1:nrow(DF)){\n",
    "  lista = c(DF[i,2],DF[i,3], DF[i,4], DF[i,5], DF[i,6], DF[i,7], DF[i,8])\n",
    "\n",
    "  train$mean = lista\n",
    "  lista2 = c(DF[i,1])\n",
    "  test$mean = lista2\n",
    "  \n",
    "  lmMod <- lm(mean ~ time, data=train)  # build the model\n",
    "  distPred <- predict(lmMod, test)\n",
    "  actuals_preds <- data.frame(cbind(actuals=test$mean, predicteds=distPred))\n",
    "  TREND_DIF = actuals_preds$actuals - actuals_preds$predicteds\n",
    "  if(TREND_DIF > 0) {\n",
    "    PUMP_TREND[i] = abs(TREND_DIF)\n",
    "  } else if(TREND_DIF < 0) {\n",
    "    PUMP_TREND[i] = TREND_DIF\n",
    "  } else {\n",
    "    PUMP_TREND[i] = TREND_DIF\n",
    "  }\n",
    "}\n",
    "\n",
    "PUMP = DF$PUMP\n",
    "DF$PUMP_TREND = PUMP_TREND\n",
    "head(DF[,c(\"PUMP\", \"PUMP_TREND\")])"
   ]
  },
  {
   "cell_type": "markdown",
   "metadata": {},
   "source": [
    "### CEMENT_PRES (não utilizado)"
   ]
  },
  {
   "cell_type": "code",
   "execution_count": 8,
   "metadata": {
    "collapsed": true
   },
   "outputs": [
    {
     "ename": "ERROR",
     "evalue": "Error in matrix(if (is.null(value)) logical() else value, nrow = nr, dimnames = list(rn, : comprimento de 'dimnames' [2] não é igual ao tamanho do array\n",
     "output_type": "error",
     "traceback": [
      "Error in matrix(if (is.null(value)) logical() else value, nrow = nr, dimnames = list(rn, : comprimento de 'dimnames' [2] não é igual ao tamanho do array\nTraceback:\n",
      "1. `[<-`(`*tmp*`, DF == -999, value = -1)",
      "2. `[<-.data.frame`(`*tmp*`, DF == -999, value = -1)",
      "3. Ops.data.frame(DF, -999)",
      "4. matrix(if (is.null(value)) logical() else value, nrow = nr, dimnames = list(rn, \n .     cn))"
     ]
    }
   ],
   "source": [
    "DF = NULL\n",
    "DF$CEMENT_PRES = as.numeric(concat_kazuo$CEMENT_PRES)\n",
    "DF = as.data.frame(DF)\n",
    "DF$CEMENT_PRES <- ((DF$CEMENT_PRES-min_value)/(max_CEMENT_PRES-min_value))\n",
    "\n",
    "DF$CEMENT_PRES_1min = (as.numeric(concat_kazuo$CEMENT_PRES_1min_MEAN)-min_value)/(max_CEMENT_PRES-min_value)\n",
    "DF$CEMENT_PRES_2min = (as.numeric(concat_kazuo$CEMENT_PRES_2min_MEAN)-min_value)/(max_CEMENT_PRES-min_value)\n",
    "DF$CEMENT_PRES_3min = (as.numeric(concat_kazuo$CEMENT_PRES_3min_MEAN)-min_value)/(max_CEMENT_PRES-min_value)\n",
    "DF$CEMENT_PRES_5min = (as.numeric(concat_kazuo$CEMENT_PRES_5min_MEAN)-min_value)/(max_CEMENT_PRES-min_value)\n",
    "DF$CEMENT_PRES_8min = (as.numeric(concat_kazuo$CEMENT_PRES_8min_MEAN)-min_value)/(max_CEMENT_PRES-min_value)\n",
    "DF$CEMENT_PRES_13min = (as.numeric(concat_kazuo$CEMENT_PRES_13min_MEAN)-min_value)/(max_CEMENT_PRES-min_value)\n",
    "DF$CEMENT_PRES_21min = (as.numeric(concat_kazuo$CEMENT_PRES_21min_MEAN)-min_value)/(max_CEMENT_PRES-min_value)\n",
    "\n",
    "train = NULL\n",
    "train$time = c(1, 2, 3, 5, 8, 13, 21)\n",
    "train = as.data.frame(train)\n",
    "\n",
    "test = NULL\n",
    "test$time = c(0)\n",
    "CEMENT_PRES_TREND = NULL\n",
    "DF[is.na(DF)] <- -1\n",
    "DF[DF == -999] <- -1\n",
    "DF$CEMENT_PRES[DF$CEMENT_PRES > 1] <- 2\n",
    "DF$CEMENT_PRES[DF$CEMENT_PRES < 0] <- -1\n",
    "\n",
    "for (i in 1:nrow(DF)){\n",
    "  lista = c(DF[i,2],DF[i,3], DF[i,4], DF[i,5], DF[i,6], DF[i,7], DF[i,8])\n",
    "\n",
    "  train$mean = lista\n",
    "  lista2 = c(DF[i,1])\n",
    "  test$mean = lista2\n",
    "  \n",
    "  lmMod <- lm(mean ~ time, data=train)  # build the model\n",
    "  distPred <- predict(lmMod, test)\n",
    "  actuals_preds <- data.frame(cbind(actuals=test$mean, predicteds=distPred))\n",
    "  TREND_DIF = actuals_preds$actuals - actuals_preds$predicteds\n",
    "  if(TREND_DIF > 0) {\n",
    "    CEMENT_PRES_TREND[i] = abs(TREND_DIF)\n",
    "  } else if(TREND_DIF < 0) {\n",
    "    CEMENT_PRES_TREND[i] = TREND_DIF\n",
    "  } else {\n",
    "    CEMENT_PRES_TREND[i] = TREND_DIF\n",
    "  }\n",
    "}\n",
    "\n",
    "CEMENT_PRES = DF$CEMENT_PRES\n",
    "DF$CEMENT_PRES_TREND = CEMENT_PRES_TREND\n",
    "head(DF[,c(\"CEMENT_PRES\", \"CEMENT_PRES_TREND\")])"
   ]
  },
  {
   "cell_type": "markdown",
   "metadata": {},
   "source": [
    "### HKLD_AVG"
   ]
  },
  {
   "cell_type": "code",
   "execution_count": 9,
   "metadata": {},
   "outputs": [
    {
     "data": {
      "text/html": [
       "<table>\n",
       "<thead><tr><th scope=col>HKLD_AVG</th><th scope=col>HKLD_AVG_TREND</th></tr></thead>\n",
       "<tbody>\n",
       "\t<tr><td>0.228010    </td><td>-0.005117241</td></tr>\n",
       "\t<tr><td>0.228065    </td><td>-0.004989865</td></tr>\n",
       "\t<tr><td>0.228010    </td><td>-0.004971263</td></tr>\n",
       "\t<tr><td>0.228140    </td><td>-0.004761036</td></tr>\n",
       "\t<tr><td>0.228695    </td><td>-0.004138139</td></tr>\n",
       "\t<tr><td>0.229205    </td><td>-0.003645509</td></tr>\n",
       "</tbody>\n",
       "</table>\n"
      ],
      "text/latex": [
       "\\begin{tabular}{r|ll}\n",
       " HKLD\\_AVG & HKLD\\_AVG\\_TREND\\\\\n",
       "\\hline\n",
       "\t 0.228010     & -0.005117241\\\\\n",
       "\t 0.228065     & -0.004989865\\\\\n",
       "\t 0.228010     & -0.004971263\\\\\n",
       "\t 0.228140     & -0.004761036\\\\\n",
       "\t 0.228695     & -0.004138139\\\\\n",
       "\t 0.229205     & -0.003645509\\\\\n",
       "\\end{tabular}\n"
      ],
      "text/markdown": [
       "\n",
       "HKLD_AVG | HKLD_AVG_TREND | \n",
       "|---|---|---|---|---|---|\n",
       "| 0.228010     | -0.005117241 | \n",
       "| 0.228065     | -0.004989865 | \n",
       "| 0.228010     | -0.004971263 | \n",
       "| 0.228140     | -0.004761036 | \n",
       "| 0.228695     | -0.004138139 | \n",
       "| 0.229205     | -0.003645509 | \n",
       "\n",
       "\n"
      ],
      "text/plain": [
       "  HKLD_AVG HKLD_AVG_TREND\n",
       "1 0.228010 -0.005117241  \n",
       "2 0.228065 -0.004989865  \n",
       "3 0.228010 -0.004971263  \n",
       "4 0.228140 -0.004761036  \n",
       "5 0.228695 -0.004138139  \n",
       "6 0.229205 -0.003645509  "
      ]
     },
     "metadata": {},
     "output_type": "display_data"
    }
   ],
   "source": [
    "DF = NULL\n",
    "DF$HKLD_AVG = as.numeric(concat_kazuo$HKLD_AVG)\n",
    "DF = as.data.frame(DF)\n",
    "DF$HKLD_AVG <- ((DF$HKLD_AVG-min_value)/(max_HKLD_AVG-min_value))\n",
    "\n",
    "DF$HKLD_AVG_1min = (as.numeric(concat_kazuo$HKLD_AVG_1min_MEAN)-min_value)/(max_HKLD_AVG-min_value)\n",
    "DF$HKLD_AVG_2min = (as.numeric(concat_kazuo$HKLD_AVG_2min_MEAN)-min_value)/(max_HKLD_AVG-min_value)\n",
    "DF$HKLD_AVG_3min = (as.numeric(concat_kazuo$HKLD_AVG_3min_MEAN)-min_value)/(max_HKLD_AVG-min_value)\n",
    "DF$HKLD_AVG_5min = (as.numeric(concat_kazuo$HKLD_AVG_5min_MEAN)-min_value)/(max_HKLD_AVG-min_value)\n",
    "DF$HKLD_AVG_8min = (as.numeric(concat_kazuo$HKLD_AVG_8min_MEAN)-min_value)/(max_HKLD_AVG-min_value)\n",
    "DF$HKLD_AVG_13min = (as.numeric(concat_kazuo$HKLD_AVG_13min_MEAN)-min_value)/(max_HKLD_AVG-min_value)\n",
    "DF$HKLD_AVG_21min = (as.numeric(concat_kazuo$HKLD_AVG_21min_MEAN)-min_value)/(max_HKLD_AVG-min_value)\n",
    "\n",
    "train = NULL\n",
    "train$time = c(1, 2, 3, 5, 8, 13, 21)\n",
    "train = as.data.frame(train)\n",
    "\n",
    "test = NULL\n",
    "test$time = c(0)\n",
    "HKLD_AVG_TREND = NULL\n",
    "DF[is.na(DF)] <- -1\n",
    "DF[DF == -999] <- -1\n",
    "DF$HKLD_AVG[DF$HKLD_AVG > 1] <- 2\n",
    "DF$HKLD_AVG[DF$HKLD_AVG < 0] <- -1\n",
    "\n",
    "for (i in 1:nrow(DF)){\n",
    "  lista = c(DF[i,2],DF[i,3], DF[i,4], DF[i,5], DF[i,6], DF[i,7], DF[i,8])\n",
    "\n",
    "  train$mean = lista\n",
    "  lista2 = c(DF[i,1])\n",
    "  test$mean = lista2\n",
    "  \n",
    "  lmMod <- lm(mean ~ time, data=train)  # build the model\n",
    "  distPred <- predict(lmMod, test)\n",
    "  actuals_preds <- data.frame(cbind(actuals=test$mean, predicteds=distPred))\n",
    "  TREND_DIF = actuals_preds$actuals - actuals_preds$predicteds\n",
    "  if(TREND_DIF > 0) {\n",
    "    HKLD_AVG_TREND[i] = abs(TREND_DIF)\n",
    "  } else if(TREND_DIF < 0) {\n",
    "    HKLD_AVG_TREND[i] = TREND_DIF\n",
    "  } else {\n",
    "    HKLD_AVG_TREND[i] = TREND_DIF\n",
    "  }\n",
    "}\n",
    "\n",
    "HKLD_AVG = DF$HKLD_AVG\n",
    "DF$HKLD_AVG_TREND = HKLD_AVG_TREND\n",
    "head(DF[,c(\"HKLD_AVG\", \"HKLD_AVG_TREND\")])"
   ]
  },
  {
   "cell_type": "markdown",
   "metadata": {},
   "source": [
    "### FLOWIN"
   ]
  },
  {
   "cell_type": "code",
   "execution_count": 10,
   "metadata": {},
   "outputs": [
    {
     "data": {
      "text/html": [
       "<table>\n",
       "<thead><tr><th scope=col>FLOWIN</th><th scope=col>FLOWIN_TREND</th></tr></thead>\n",
       "<tbody>\n",
       "\t<tr><td>0.05187     </td><td>0.0009528621</td></tr>\n",
       "\t<tr><td>0.05187     </td><td>0.0008048740</td></tr>\n",
       "\t<tr><td>0.05187     </td><td>0.0007225252</td></tr>\n",
       "\t<tr><td>0.05187     </td><td>0.0006376810</td></tr>\n",
       "\t<tr><td>0.05187     </td><td>0.0005543057</td></tr>\n",
       "\t<tr><td>0.05187     </td><td>0.0004717576</td></tr>\n",
       "</tbody>\n",
       "</table>\n"
      ],
      "text/latex": [
       "\\begin{tabular}{r|ll}\n",
       " FLOWIN & FLOWIN\\_TREND\\\\\n",
       "\\hline\n",
       "\t 0.05187      & 0.0009528621\\\\\n",
       "\t 0.05187      & 0.0008048740\\\\\n",
       "\t 0.05187      & 0.0007225252\\\\\n",
       "\t 0.05187      & 0.0006376810\\\\\n",
       "\t 0.05187      & 0.0005543057\\\\\n",
       "\t 0.05187      & 0.0004717576\\\\\n",
       "\\end{tabular}\n"
      ],
      "text/markdown": [
       "\n",
       "FLOWIN | FLOWIN_TREND | \n",
       "|---|---|---|---|---|---|\n",
       "| 0.05187      | 0.0009528621 | \n",
       "| 0.05187      | 0.0008048740 | \n",
       "| 0.05187      | 0.0007225252 | \n",
       "| 0.05187      | 0.0006376810 | \n",
       "| 0.05187      | 0.0005543057 | \n",
       "| 0.05187      | 0.0004717576 | \n",
       "\n",
       "\n"
      ],
      "text/plain": [
       "  FLOWIN  FLOWIN_TREND\n",
       "1 0.05187 0.0009528621\n",
       "2 0.05187 0.0008048740\n",
       "3 0.05187 0.0007225252\n",
       "4 0.05187 0.0006376810\n",
       "5 0.05187 0.0005543057\n",
       "6 0.05187 0.0004717576"
      ]
     },
     "metadata": {},
     "output_type": "display_data"
    }
   ],
   "source": [
    "DF = NULL\n",
    "DF$FLOWIN = as.numeric(concat_kazuo$FLOWIN)\n",
    "DF = as.data.frame(DF)\n",
    "DF$FLOWIN <- ((DF$FLOWIN-min_value)/(max_FLOWIN-min_value))\n",
    "\n",
    "DF$FLOWIN_1min = (as.numeric(concat_kazuo$FLOWIN_1min_MEAN)-min_value)/(max_FLOWIN-min_value)\n",
    "DF$FLOWIN_2min = (as.numeric(concat_kazuo$FLOWIN_2min_MEAN)-min_value)/(max_FLOWIN-min_value)\n",
    "DF$FLOWIN_3min = (as.numeric(concat_kazuo$FLOWIN_3min_MEAN)-min_value)/(max_FLOWIN-min_value)\n",
    "DF$FLOWIN_5min = (as.numeric(concat_kazuo$FLOWIN_5min_MEAN)-min_value)/(max_FLOWIN-min_value)\n",
    "DF$FLOWIN_8min = (as.numeric(concat_kazuo$FLOWIN_8min_MEAN)-min_value)/(max_FLOWIN-min_value)\n",
    "DF$FLOWIN_13min = (as.numeric(concat_kazuo$FLOWIN_13min_MEAN)-min_value)/(max_FLOWIN-min_value)\n",
    "DF$FLOWIN_21min = (as.numeric(concat_kazuo$FLOWIN_21min_MEAN)-min_value)/(max_FLOWIN-min_value)\n",
    "\n",
    "train = NULL\n",
    "train$time = c(1, 2, 3, 5, 8, 13, 21)\n",
    "train = as.data.frame(train)\n",
    "\n",
    "test = NULL\n",
    "test$time = c(0)\n",
    "FLOWIN_TREND = NULL\n",
    "DF[is.na(DF)] <- -1\n",
    "DF[DF == -999] <- -1\n",
    "DF$FLOWIN[DF$FLOWIN > 1] <- 2\n",
    "DF$FLOWIN[DF$FLOWIN < 0] <- -1\n",
    "\n",
    "for (i in 1:nrow(DF)){\n",
    "  lista = c(DF[i,2],DF[i,3], DF[i,4], DF[i,5], DF[i,6], DF[i,7], DF[i,8])\n",
    "\n",
    "  train$mean = lista\n",
    "  lista2 = c(DF[i,1])\n",
    "  test$mean = lista2\n",
    "  \n",
    "  lmMod <- lm(mean ~ time, data=train)  # build the model\n",
    "  distPred <- predict(lmMod, test)\n",
    "  actuals_preds <- data.frame(cbind(actuals=test$mean, predicteds=distPred))\n",
    "  TREND_DIF = actuals_preds$actuals - actuals_preds$predicteds\n",
    "  if(TREND_DIF > 0) {\n",
    "    FLOWIN_TREND[i] = abs(TREND_DIF)\n",
    "  } else if(TREND_DIF < 0) {\n",
    "    FLOWIN_TREND[i] = TREND_DIF\n",
    "  } else {\n",
    "    FLOWIN_TREND[i] = TREND_DIF\n",
    "  }\n",
    "}\n",
    "\n",
    "FLOWIN = DF$FLOWIN\n",
    "DF$FLOWIN_TREND = FLOWIN_TREND\n",
    "head(DF[,c(\"FLOWIN\", \"FLOWIN_TREND\")])"
   ]
  },
  {
   "cell_type": "markdown",
   "metadata": {},
   "source": [
    "### CHOKE_PRES"
   ]
  },
  {
   "cell_type": "code",
   "execution_count": 11,
   "metadata": {},
   "outputs": [
    {
     "data": {
      "text/html": [
       "<table>\n",
       "<thead><tr><th scope=col>CHOKE_PRES</th><th scope=col>CHOKE_PRES_TREND</th></tr></thead>\n",
       "<tbody>\n",
       "\t<tr><td>-1        </td><td>-0.9375625</td></tr>\n",
       "\t<tr><td>-1        </td><td>-0.9375625</td></tr>\n",
       "\t<tr><td>-1        </td><td>-0.9375625</td></tr>\n",
       "\t<tr><td>-1        </td><td>-0.9375625</td></tr>\n",
       "\t<tr><td>-1        </td><td>-0.9375625</td></tr>\n",
       "\t<tr><td>-1        </td><td>-0.9375625</td></tr>\n",
       "</tbody>\n",
       "</table>\n"
      ],
      "text/latex": [
       "\\begin{tabular}{r|ll}\n",
       " CHOKE\\_PRES & CHOKE\\_PRES\\_TREND\\\\\n",
       "\\hline\n",
       "\t -1         & -0.9375625\\\\\n",
       "\t -1         & -0.9375625\\\\\n",
       "\t -1         & -0.9375625\\\\\n",
       "\t -1         & -0.9375625\\\\\n",
       "\t -1         & -0.9375625\\\\\n",
       "\t -1         & -0.9375625\\\\\n",
       "\\end{tabular}\n"
      ],
      "text/markdown": [
       "\n",
       "CHOKE_PRES | CHOKE_PRES_TREND | \n",
       "|---|---|---|---|---|---|\n",
       "| -1         | -0.9375625 | \n",
       "| -1         | -0.9375625 | \n",
       "| -1         | -0.9375625 | \n",
       "| -1         | -0.9375625 | \n",
       "| -1         | -0.9375625 | \n",
       "| -1         | -0.9375625 | \n",
       "\n",
       "\n"
      ],
      "text/plain": [
       "  CHOKE_PRES CHOKE_PRES_TREND\n",
       "1 -1         -0.9375625      \n",
       "2 -1         -0.9375625      \n",
       "3 -1         -0.9375625      \n",
       "4 -1         -0.9375625      \n",
       "5 -1         -0.9375625      \n",
       "6 -1         -0.9375625      "
      ]
     },
     "metadata": {},
     "output_type": "display_data"
    }
   ],
   "source": [
    "DF = NULL\n",
    "DF$CHOKE_PRES = as.numeric(concat_kazuo$CHOKE_PRES)\n",
    "DF = as.data.frame(DF)\n",
    "DF$CHOKE_PRES <- ((DF$CHOKE_PRES-min_value)/(max_CHOKE_PRES-min_value))\n",
    "\n",
    "DF$CHOKE_PRES_1min = (as.numeric(concat_kazuo$CHOKE_PRES_1min_MEAN)-min_value)/(max_CHOKE_PRES-min_value)\n",
    "DF$CHOKE_PRES_2min = (as.numeric(concat_kazuo$CHOKE_PRES_2min_MEAN)-min_value)/(max_CHOKE_PRES-min_value)\n",
    "DF$CHOKE_PRES_3min = (as.numeric(concat_kazuo$CHOKE_PRES_3min_MEAN)-min_value)/(max_CHOKE_PRES-min_value)\n",
    "DF$CHOKE_PRES_5min = (as.numeric(concat_kazuo$CHOKE_PRES_5min_MEAN)-min_value)/(max_CHOKE_PRES-min_value)\n",
    "DF$CHOKE_PRES_8min = (as.numeric(concat_kazuo$CHOKE_PRES_8min_MEAN)-min_value)/(max_CHOKE_PRES-min_value)\n",
    "DF$CHOKE_PRES_13min = (as.numeric(concat_kazuo$CHOKE_PRES_13min_MEAN)-min_value)/(max_CHOKE_PRES-min_value)\n",
    "DF$CHOKE_PRES_21min = (as.numeric(concat_kazuo$CHOKE_PRES_21min_MEAN)-min_value)/(max_CHOKE_PRES-min_value)\n",
    "\n",
    "train = NULL\n",
    "train$time = c(1, 2, 3, 5, 8, 13, 21)\n",
    "train = as.data.frame(train)\n",
    "\n",
    "test = NULL\n",
    "test$time = c(0)\n",
    "CHOKE_PRES_TREND = NULL\n",
    "DF[is.na(DF)] <- -1\n",
    "DF[DF == -999] <- -1\n",
    "DF$CHOKE_PRES[DF$CHOKE_PRES > 1] <- 2\n",
    "DF$CHOKE_PRES[DF$CHOKE_PRES < 0] <- -1\n",
    "\n",
    "for (i in 1:nrow(DF)){\n",
    "  lista = c(DF[i,2],DF[i,3], DF[i,4], DF[i,5], DF[i,6], DF[i,7], DF[i,8])\n",
    "\n",
    "  train$mean = lista\n",
    "  lista2 = c(DF[i,1])\n",
    "  test$mean = lista2\n",
    "  \n",
    "  lmMod <- lm(mean ~ time, data=train)  # build the model\n",
    "  distPred <- predict(lmMod, test)\n",
    "  actuals_preds <- data.frame(cbind(actuals=test$mean, predicteds=distPred))\n",
    "  TREND_DIF = actuals_preds$actuals - actuals_preds$predicteds\n",
    "  if(TREND_DIF > 0) {\n",
    "    CHOKE_PRES_TREND[i] = abs(TREND_DIF)\n",
    "  } else if(TREND_DIF < 0) {\n",
    "    CHOKE_PRES_TREND[i] = TREND_DIF\n",
    "  } else {\n",
    "    CHOKE_PRES_TREND[i] = TREND_DIF\n",
    "  }\n",
    "}\n",
    "\n",
    "CHOKE_PRES = DF$CHOKE_PRES\n",
    "DF$CHOKE_PRES_TREND = CHOKE_PRES_TREND\n",
    "head(DF[,c(\"CHOKE_PRES\", \"CHOKE_PRES_TREND\")])"
   ]
  },
  {
   "cell_type": "markdown",
   "metadata": {},
   "source": [
    "### KILL_PRES"
   ]
  },
  {
   "cell_type": "code",
   "execution_count": 12,
   "metadata": {},
   "outputs": [
    {
     "data": {
      "text/html": [
       "<table>\n",
       "<thead><tr><th scope=col>KILL_PRES</th><th scope=col>KILL_PRES_TREND</th></tr></thead>\n",
       "<tbody>\n",
       "\t<tr><td>-1        </td><td>-0.9375625</td></tr>\n",
       "\t<tr><td>-1        </td><td>-0.9375625</td></tr>\n",
       "\t<tr><td>-1        </td><td>-0.9375625</td></tr>\n",
       "\t<tr><td>-1        </td><td>-0.9375625</td></tr>\n",
       "\t<tr><td>-1        </td><td>-0.9375625</td></tr>\n",
       "\t<tr><td>-1        </td><td>-0.9375625</td></tr>\n",
       "</tbody>\n",
       "</table>\n"
      ],
      "text/latex": [
       "\\begin{tabular}{r|ll}\n",
       " KILL\\_PRES & KILL\\_PRES\\_TREND\\\\\n",
       "\\hline\n",
       "\t -1         & -0.9375625\\\\\n",
       "\t -1         & -0.9375625\\\\\n",
       "\t -1         & -0.9375625\\\\\n",
       "\t -1         & -0.9375625\\\\\n",
       "\t -1         & -0.9375625\\\\\n",
       "\t -1         & -0.9375625\\\\\n",
       "\\end{tabular}\n"
      ],
      "text/markdown": [
       "\n",
       "KILL_PRES | KILL_PRES_TREND | \n",
       "|---|---|---|---|---|---|\n",
       "| -1         | -0.9375625 | \n",
       "| -1         | -0.9375625 | \n",
       "| -1         | -0.9375625 | \n",
       "| -1         | -0.9375625 | \n",
       "| -1         | -0.9375625 | \n",
       "| -1         | -0.9375625 | \n",
       "\n",
       "\n"
      ],
      "text/plain": [
       "  KILL_PRES KILL_PRES_TREND\n",
       "1 -1        -0.9375625     \n",
       "2 -1        -0.9375625     \n",
       "3 -1        -0.9375625     \n",
       "4 -1        -0.9375625     \n",
       "5 -1        -0.9375625     \n",
       "6 -1        -0.9375625     "
      ]
     },
     "metadata": {},
     "output_type": "display_data"
    }
   ],
   "source": [
    "DF = NULL\n",
    "DF$KILL_PRES = as.numeric(concat_kazuo$KILL_PRES)\n",
    "DF = as.data.frame(DF)\n",
    "DF$KILL_PRES <- ((DF$KILL_PRES-min_value)/(max_KILL_PRES-min_value))\n",
    "\n",
    "DF$KILL_PRES_1min = (as.numeric(concat_kazuo$KILL_PRES_1min_MEAN)-min_value)/(max_KILL_PRES-min_value)\n",
    "DF$KILL_PRES_2min = (as.numeric(concat_kazuo$KILL_PRES_2min_MEAN)-min_value)/(max_KILL_PRES-min_value)\n",
    "DF$KILL_PRES_3min = (as.numeric(concat_kazuo$KILL_PRES_3min_MEAN)-min_value)/(max_KILL_PRES-min_value)\n",
    "DF$KILL_PRES_5min = (as.numeric(concat_kazuo$KILL_PRES_5min_MEAN)-min_value)/(max_KILL_PRES-min_value)\n",
    "DF$KILL_PRES_8min = (as.numeric(concat_kazuo$KILL_PRES_8min_MEAN)-min_value)/(max_KILL_PRES-min_value)\n",
    "DF$KILL_PRES_13min = (as.numeric(concat_kazuo$KILL_PRES_13min_MEAN)-min_value)/(max_KILL_PRES-min_value)\n",
    "DF$KILL_PRES_21min = (as.numeric(concat_kazuo$KILL_PRES_21min_MEAN)-min_value)/(max_KILL_PRES-min_value)\n",
    "\n",
    "train = NULL\n",
    "train$time = c(1, 2, 3, 5, 8, 13, 21)\n",
    "train = as.data.frame(train)\n",
    "\n",
    "test = NULL\n",
    "test$time = c(0)\n",
    "KILL_PRES_TREND = NULL\n",
    "DF[is.na(DF)] <- -1\n",
    "DF[DF == -999] <- -1\n",
    "DF$KILL_PRES[DF$KILL_PRES > 1] <- 2\n",
    "DF$KILL_PRES[DF$KILL_PRES < 0] <- -1\n",
    "\n",
    "for (i in 1:nrow(DF)){\n",
    "  lista = c(DF[i,2],DF[i,3], DF[i,4], DF[i,5], DF[i,6], DF[i,7], DF[i,8])\n",
    "\n",
    "  train$mean = lista\n",
    "  lista2 = c(DF[i,1])\n",
    "  test$mean = lista2\n",
    "  \n",
    "  lmMod <- lm(mean ~ time, data=train)  # build the model\n",
    "  distPred <- predict(lmMod, test)\n",
    "  actuals_preds <- data.frame(cbind(actuals=test$mean, predicteds=distPred))\n",
    "  TREND_DIF = actuals_preds$actuals - actuals_preds$predicteds\n",
    "  if(TREND_DIF > 0) {\n",
    "    KILL_PRES_TREND[i] = abs(TREND_DIF)\n",
    "  } else if(TREND_DIF < 0) {\n",
    "    KILL_PRES_TREND[i] = TREND_DIF\n",
    "  } else {\n",
    "    KILL_PRES_TREND[i] = TREND_DIF\n",
    "  }\n",
    "}\n",
    "\n",
    "KILL_PRES = DF$KILL_PRES\n",
    "DF$KILL_PRES_TREND = KILL_PRES_TREND\n",
    "head(DF[,c(\"KILL_PRES\", \"KILL_PRES_TREND\")])"
   ]
  },
  {
   "cell_type": "markdown",
   "metadata": {},
   "source": [
    "### TORQUE_AVG"
   ]
  },
  {
   "cell_type": "code",
   "execution_count": 13,
   "metadata": {},
   "outputs": [
    {
     "data": {
      "text/html": [
       "<table>\n",
       "<thead><tr><th scope=col>TORQUE_AVG</th><th scope=col>TORQUE_AVG_TREND</th></tr></thead>\n",
       "<tbody>\n",
       "\t<tr><td>0.0001904762 </td><td>-3.394810e-05</td></tr>\n",
       "\t<tr><td>0.0002857143 </td><td> 5.202920e-05</td></tr>\n",
       "\t<tr><td>0.0002380952 </td><td> 3.777923e-06</td></tr>\n",
       "\t<tr><td>0.0003809524 </td><td> 1.291835e-04</td></tr>\n",
       "\t<tr><td>0.0001587619 </td><td>-8.372821e-05</td></tr>\n",
       "\t<tr><td>0.0001904762 </td><td>-4.733957e-05</td></tr>\n",
       "</tbody>\n",
       "</table>\n"
      ],
      "text/latex": [
       "\\begin{tabular}{r|ll}\n",
       " TORQUE\\_AVG & TORQUE\\_AVG\\_TREND\\\\\n",
       "\\hline\n",
       "\t 0.0001904762  & -3.394810e-05\\\\\n",
       "\t 0.0002857143  &  5.202920e-05\\\\\n",
       "\t 0.0002380952  &  3.777923e-06\\\\\n",
       "\t 0.0003809524  &  1.291835e-04\\\\\n",
       "\t 0.0001587619  & -8.372821e-05\\\\\n",
       "\t 0.0001904762  & -4.733957e-05\\\\\n",
       "\\end{tabular}\n"
      ],
      "text/markdown": [
       "\n",
       "TORQUE_AVG | TORQUE_AVG_TREND | \n",
       "|---|---|---|---|---|---|\n",
       "| 0.0001904762  | -3.394810e-05 | \n",
       "| 0.0002857143  |  5.202920e-05 | \n",
       "| 0.0002380952  |  3.777923e-06 | \n",
       "| 0.0003809524  |  1.291835e-04 | \n",
       "| 0.0001587619  | -8.372821e-05 | \n",
       "| 0.0001904762  | -4.733957e-05 | \n",
       "\n",
       "\n"
      ],
      "text/plain": [
       "  TORQUE_AVG   TORQUE_AVG_TREND\n",
       "1 0.0001904762 -3.394810e-05   \n",
       "2 0.0002857143  5.202920e-05   \n",
       "3 0.0002380952  3.777923e-06   \n",
       "4 0.0003809524  1.291835e-04   \n",
       "5 0.0001587619 -8.372821e-05   \n",
       "6 0.0001904762 -4.733957e-05   "
      ]
     },
     "metadata": {},
     "output_type": "display_data"
    }
   ],
   "source": [
    "DF = NULL\n",
    "DF$TORQUE_AVG = as.numeric(concat_kazuo$TORQUE_AVG)\n",
    "DF = as.data.frame(DF)\n",
    "DF$TORQUE_AVG <- ((DF$TORQUE_AVG-min_value)/(max_TORQUE_AVG-min_value))\n",
    "\n",
    "DF$TORQUE_AVG_1min = (as.numeric(concat_kazuo$TORQUE_AVG_1min_MEAN)-min_value)/(max_TORQUE_AVG-min_value)\n",
    "DF$TORQUE_AVG_2min = (as.numeric(concat_kazuo$TORQUE_AVG_2min_MEAN)-min_value)/(max_TORQUE_AVG-min_value)\n",
    "DF$TORQUE_AVG_3min = (as.numeric(concat_kazuo$TORQUE_AVG_3min_MEAN)-min_value)/(max_TORQUE_AVG-min_value)\n",
    "DF$TORQUE_AVG_5min = (as.numeric(concat_kazuo$TORQUE_AVG_5min_MEAN)-min_value)/(max_TORQUE_AVG-min_value)\n",
    "DF$TORQUE_AVG_8min = (as.numeric(concat_kazuo$TORQUE_AVG_8min_MEAN)-min_value)/(max_TORQUE_AVG-min_value)\n",
    "DF$TORQUE_AVG_13min = (as.numeric(concat_kazuo$TORQUE_AVG_13min_MEAN)-min_value)/(max_TORQUE_AVG-min_value)\n",
    "DF$TORQUE_AVG_21min = (as.numeric(concat_kazuo$TORQUE_AVG_21min_MEAN)-min_value)/(max_TORQUE_AVG-min_value)\n",
    "\n",
    "train = NULL\n",
    "train$time = c(1, 2, 3, 5, 8, 13, 21)\n",
    "train = as.data.frame(train)\n",
    "\n",
    "test = NULL\n",
    "test$time = c(0)\n",
    "TORQUE_AVG_TREND = NULL\n",
    "DF[is.na(DF)] <- -1\n",
    "DF[DF == -999] <- -1\n",
    "DF$TORQUE_AVG[DF$TORQUE_AVG > 1] <- 2\n",
    "DF$TORQUE_AVG[DF$TORQUE_AVG < 0] <- -1\n",
    "\n",
    "for (i in 1:nrow(DF)){\n",
    "  lista = c(DF[i,2],DF[i,3], DF[i,4], DF[i,5], DF[i,6], DF[i,7], DF[i,8])\n",
    "\n",
    "  train$mean = lista\n",
    "  lista2 = c(DF[i,1])\n",
    "  test$mean = lista2\n",
    "  \n",
    "  lmMod <- lm(mean ~ time, data=train)  # build the model\n",
    "  distPred <- predict(lmMod, test)\n",
    "  actuals_preds <- data.frame(cbind(actuals=test$mean, predicteds=distPred))\n",
    "  TREND_DIF = actuals_preds$actuals - actuals_preds$predicteds\n",
    "  if(TREND_DIF > 0) {\n",
    "    TORQUE_AVG_TREND[i] = abs(TREND_DIF)\n",
    "  } else if(TREND_DIF < 0) {\n",
    "    TORQUE_AVG_TREND[i] = TREND_DIF\n",
    "  } else {\n",
    "    TORQUE_AVG_TREND[i] = TREND_DIF\n",
    "  }\n",
    "}\n",
    "\n",
    "TORQUE_AVG = DF$TORQUE_AVG\n",
    "DF$TORQUE_AVG_TREND = TORQUE_AVG_TREND\n",
    "head(DF[,c(\"TORQUE_AVG\", \"TORQUE_AVG_TREND\")])"
   ]
  },
  {
   "cell_type": "markdown",
   "metadata": {},
   "source": [
    "### Geração do dataset para o Tensorflow"
   ]
  },
  {
   "cell_type": "code",
   "execution_count": 14,
   "metadata": {},
   "outputs": [],
   "source": [
    "#Comentar os parâmetros que não foram utilizados\n",
    "#Para realizar o comentário da linha em R, basta utilizar \"#\"\n",
    "#Exemplo: Se você utilizou apenas os parâmetros BLOCKCOMP e ROP, comentar as linhas dos demais parâmetros a seguir.\n",
    "kazuo_regression_test = NULL\n",
    "kazuo_regression_test$BLOCKCOMP = BLOCKCOMP\n",
    "kazuo_regression_test$BLOCKCOMP_TREND = BLOCKCOMP_TREND\n",
    "kazuo_regression_test$SURF_RPM = SURF_RPM\n",
    "kazuo_regression_test$SURF_RPM_TREND = SURF_RPM_TREND\n",
    "kazuo_regression_test$PUMP = PUMP\n",
    "kazuo_regression_test$PUMP_TREND_TREND = PUMP_TREND\n",
    "#kazuo_regression_test$CEMENT_PRES = CEMENT_PRES\n",
    "#kazuo_regression_test$CEMENT_PRES_TREND_TREND = CEMENT_PRES_TREND\n",
    "kazuo_regression_test$HKLD_AVG = HKLD_AVG\n",
    "kazuo_regression_test$HKLD_AVG_TREND = HKLD_AVG_TREND\n",
    "kazuo_regression_test$FLOWIN = FLOWIN\n",
    "kazuo_regression_test$FLOWIN_TREND = FLOWIN_TREND\n",
    "kazuo_regression_test$CHOKE_PRES = CHOKE_PRES\n",
    "kazuo_regression_test$CHOKE_PRES_TREND = CHOKE_PRES_TREND\n",
    "kazuo_regression_test$KILL_PRES = KILL_PRES\n",
    "kazuo_regression_test$KILL_PRES_TREND = KILL_PRES_TREND\n",
    "kazuo_regression_test$TORQUE_AVG = TORQUE_AVG\n",
    "kazuo_regression_test$TORQUE_AVG_TREND = TORQUE_AVG_TREND\n",
    "kazuo_regression_test$INICIO = concat_kazuo$INICIO\n",
    "kazuo_regression_test = as.data.frame(kazuo_regression_test)\n",
    "\n",
    "#Definir o caminho e nome do arquivo de saída\n",
    "write.table(kazuo_regression_test, file=\"F:\\\\Genesis\\\\WELL3\\\\test_well3.csv\", col.names = F, row.names = F, sep=\",\")"
   ]
  }
 ],
 "metadata": {
  "kernelspec": {
   "display_name": "R",
   "language": "R",
   "name": "ir"
  },
  "language_info": {
   "codemirror_mode": "r",
   "file_extension": ".r",
   "mimetype": "text/x-r-source",
   "name": "R",
   "pygments_lexer": "r",
   "version": "3.5.1"
  }
 },
 "nbformat": 4,
 "nbformat_minor": 2
}
